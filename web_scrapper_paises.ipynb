{
  "nbformat": 4,
  "nbformat_minor": 0,
  "metadata": {
    "colab": {
      "name": "web_scrapper_paises.ipynb",
      "provenance": [],
      "collapsed_sections": []
    },
    "kernelspec": {
      "name": "python3",
      "display_name": "Python 3"
    }
  },
  "cells": [
    {
      "cell_type": "code",
      "metadata": {
        "id": "qPVFWg5NYnRc",
        "colab_type": "code",
        "colab": {}
      },
      "source": [
        "import requests\n",
        "from bs4 import BeautifulSoup\n",
        "\n",
        "from openpyxl import Workbook\n",
        "from openpyxl import Workbook, load_workbook\n",
        "from openpyxl.drawing.image import Image\n",
        "from openpyxl.utils.dataframe import dataframe_to_rows"
      ],
      "execution_count": null,
      "outputs": []
    },
    {
      "cell_type": "code",
      "metadata": {
        "id": "_w19aQgplH18",
        "colab_type": "code",
        "colab": {}
      },
      "source": [
        "from google.colab import drive\n",
        "drive.mount('/content/drive')"
      ],
      "execution_count": null,
      "outputs": []
    },
    {
      "cell_type": "markdown",
      "metadata": {
        "id": "uH_FvGq5kuva",
        "colab_type": "text"
      },
      "source": [
        "Loop de inserção de dados dos paises."
      ]
    },
    {
      "cell_type": "code",
      "metadata": {
        "id": "9Gyd8cxHliDL",
        "colab_type": "code",
        "colab": {}
      },
      "source": [
        "# recolher lista de paises do site\n",
        "\n",
        "\n",
        "page_paises_rec = requests.get(\"https://www.numbeo.com/cost-of-living/\")\n",
        "    \n",
        "soup = BeautifulSoup(page_paises_rec.content, 'html.parser')\n",
        "\n",
        "paises_rec_var = [x.text for x in soup.find_all('select', {'id': 'country'})]\n",
        "\n",
        "lista_paises_temp = [i.split('\\n') for i in paises_rec_var]\n",
        "del lista_paises_temp[0][0:2]\n",
        "del lista_paises_temp[0][-1]\n",
        "lista_paises = lista_paises_temp[0]\n",
        "print(lista_paises)\n",
        "\n"
      ],
      "execution_count": null,
      "outputs": []
    },
    {
      "cell_type": "code",
      "metadata": {
        "id": "VyqYxs60lFVI",
        "colab_type": "code",
        "colab": {}
      },
      "source": [
        "#cria o excel\n",
        "'''\n",
        "wb_paises = Workbook('/content/drive/My Drive/slotMachDatasets/Paises_teste1.xlsx')\n",
        "wb_paises.save('/content/drive/My Drive/slotMachDatasets/Paises_teste1.xlsx')\n",
        "'''"
      ],
      "execution_count": null,
      "outputs": []
    },
    {
      "cell_type": "code",
      "metadata": {
        "colab_type": "code",
        "id": "xd6BAwtIkmD1",
        "colab": {}
      },
      "source": [
        "\n",
        "for i in range(len(lista_paises)):\n",
        "\n",
        "  page_paises = requests.get(\"https://www.numbeo.com/cost-of-living/country_result.jsp?country=%s&displayCurrency=EUR\" % lista_paises[i])\n",
        "    \n",
        "  page_paises\n",
        "\n",
        "  soup = BeautifulSoup(page_paises.content, 'html.parser')\n",
        "\n",
        "  lista_val = []\n",
        "\n",
        "  print(lista_paises[i])\n",
        "\n",
        "  z = soup.find_all('td', class_=\"priceValue\")\n",
        "  list(z)\n",
        "  \n",
        "  lista_val.append(lista_paises[i])\n",
        "  for x in range(len(z)):\n",
        "    \n",
        "    lista_val.append(z[x].get_text())\n",
        "    \n",
        "  ## excel append section ##\n",
        "\n",
        "  #path to the excel file\n",
        "  excel_file = '/content/drive/My Drive/slotMachDatasets/Paises_teste1.xlsx'\n",
        "\n",
        "  #load excel file\n",
        "  wb_p2 = load_workbook(excel_file)\n",
        "\n",
        "  #declares the active sheet were to append\n",
        "  f1 = wb_p2.active\n",
        "  #appends values to declared sheet\n",
        "  f1.append(lista_val)\n",
        "\n",
        "  #saves changes made to the excel file\n",
        "  wb_p2.save(filename=excel_file)"
      ],
      "execution_count": null,
      "outputs": []
    },
    {
      "cell_type": "code",
      "metadata": {
        "id": "4mWoo4CrM20R",
        "colab_type": "code",
        "colab": {}
      },
      "source": [
        "#obter cabeçalho\n",
        "\n",
        "page_paises_cab = requests.get(\"https://www.numbeo.com/cost-of-living/country_result.jsp?country=%s\" % lista_paises[i])\n",
        "    \n",
        "page_paises_cab\n",
        "\n",
        "soup = BeautifulSoup(page_paisescab.content, 'html.parser')\n",
        "\n",
        "z_cab = soup.find_all('td')\n",
        "list(z_cab)"
      ],
      "execution_count": null,
      "outputs": []
    }
  ]
}