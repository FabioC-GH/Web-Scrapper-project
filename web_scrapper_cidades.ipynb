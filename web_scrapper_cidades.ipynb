{
  "nbformat": 4,
  "nbformat_minor": 0,
  "metadata": {
    "colab": {
      "name": "web_scrapper_cidades.ipynb",
      "provenance": [],
      "collapsed_sections": [],
      "include_colab_link": true
    },
    "kernelspec": {
      "name": "python3",
      "display_name": "Python 3"
    }
  },
  "cells": [
    {
      "cell_type": "markdown",
      "metadata": {
        "id": "view-in-github",
        "colab_type": "text"
      },
      "source": [
        "<a href=\"https://colab.research.google.com/github/FabioC-GH/Web-Scrapper-project/blob/master/web_scrapper_cidades.ipynb\" target=\"_parent\"><img src=\"https://colab.research.google.com/assets/colab-badge.svg\" alt=\"Open In Colab\"/></a>"
      ]
    },
    {
      "cell_type": "code",
      "metadata": {
        "id": "qPVFWg5NYnRc",
        "colab_type": "code",
        "colab": {}
      },
      "source": [
        "import requests\n",
        "from bs4 import BeautifulSoup\n",
        "\n",
        "from openpyxl import Workbook\n",
        "from openpyxl import Workbook, load_workbook\n",
        "from openpyxl.drawing.image import Image\n",
        "from openpyxl.utils.dataframe import dataframe_to_rows"
      ],
      "execution_count": 20,
      "outputs": []
    },
    {
      "cell_type": "code",
      "metadata": {
        "id": "_w19aQgplH18",
        "colab_type": "code",
        "colab": {}
      },
      "source": [
        "from google.colab import drive\n",
        "drive.mount('/content/drive')"
      ],
      "execution_count": null,
      "outputs": []
    },
    {
      "cell_type": "code",
      "metadata": {
        "id": "8-3JmBQdd1Z8",
        "colab_type": "code",
        "colab": {}
      },
      "source": [
        "#obtains list of cities from Portugal\n",
        "\n",
        "# requets the page\n",
        "page_cidades_rec = requests.get(\"https://www.numbeo.com/cost-of-living/country_result.jsp?country=Portugal\")\n",
        "\n",
        "# parces the html\n",
        "soup = BeautifulSoup(page_cidades_rec.content, 'html.parser')\n",
        "\n",
        "# extracts text from html based on tag and id\n",
        "cidade_rec_var = [x.text for x in soup.find_all('select', {'id': 'city'})]\n",
        "\n",
        "# splits the list base on '\\n' separaint city names from each other\n",
        "lista_cidade_temp = [i.split('\\n') for i in cidade_rec_var]\n",
        "\n",
        "# deletes non city values\n",
        "del lista_cidade_temp[0][0:2]\n",
        "del lista_cidade_temp[0][-1]\n",
        "lista_cidades_base = lista_cidade_temp[0]\n",
        "\n",
        "# There are various types of url, requiring to create lists to accommodate those differences\n",
        "#this will require further data cleaning in the output file (duplicates, empty cells)\n",
        "\n",
        "#replaces ' ' por '-'\n",
        "lista_cidades = []\n",
        "for string in lista_cidades_base:\n",
        "  new_string = string.replace(\" \", \"-\") #Modify old string.\n",
        "  lista_cidades.append(new_string) #Add new string to list.\n",
        "\n",
        "#replaces 'de' por 'De'\n",
        "lista_cidades_De = []\n",
        "for string in lista_cidades:\n",
        "  new_string = string.replace(\"de\", \"De\") #Modify old string.\n",
        "  lista_cidades_De.append(new_string) #Add new string to list.\n",
        "\n",
        "#replaces \"do\" por \"Do\"\n",
        "lista_cidades_Do = []\n",
        "for string in lista_cidades:\n",
        "  new_string = string.replace(\"do\", \"Do\") #Modify old string.\n",
        "  lista_cidades_Do.append(new_string) #Add new string to list.\n"
      ],
      "execution_count": null,
      "outputs": []
    },
    {
      "cell_type": "code",
      "metadata": {
        "id": "Q_IDi0wL8Lgv",
        "colab_type": "code",
        "colab": {}
      },
      "source": [
        "#\n",
        "# This function (url_storage()) is used to store url and there corresponding list\n",
        "# not meant to be used\n",
        "\n",
        "def url_storage():\n",
        "  #url type: https://www.numbeo.com/cost-of-living/in/Braga\n",
        "  page_cidades = requests.get(\"https://www.numbeo.com/cost-of-living/in/%s?displayCurrency=EUR\" % lista_cidades_base[i])\n",
        "\n",
        "  #url type: https://www.numbeo.com/cost-of-living/in/Braga com \"-\" em vez de \" \"\n",
        "  page_cidades = requests.get(\"https://www.numbeo.com/cost-of-living/in/%s&displayCurrency=EUR\" % lista_cidades[i])\n",
        "\n",
        "  #url type: https://www.numbeo.com/cost-of-living/in/Albufeira-Portugal\n",
        "  page_cidades = requests.get(\"https://www.numbeo.com/cost-of-living/in/%s-Portugal?displayCurrency=EUR\" % lista_cidades[i])\n",
        "\n",
        "  #url type: contains De\n",
        "  page_cidades = requests.get(\"https://www.numbeo.com/cost-of-living/in/%s-Portugal?displayCurrency=EUR\" % lista_cidades_De[i])\n",
        "\n",
        "  #url type: contains Do\n",
        "  page_cidades = requests.get(\"https://www.numbeo.com/cost-of-living/in/%s-Portugal?displayCurrency=EUR\" % lista_cidades_Do[i])\n",
        "\n",
        "  #https://www.numbeo.com/cost-of-living/in/Viana-do-Castelo?displayCurrency=EUR\n",
        "  # url for viana do castelo(did not show up in any of the other results)\n",
        "  page_cidades = requests.get(\"https://www.numbeo.com/cost-of-living/in/Viana-do-Castelo?displayCurrency=EUR\")\n",
        "\n",
        "# tuple to be use by the extaction function, extract_values_cities(request_url,chosen_list_cities)\n",
        "# contains url and corresponding city list\n",
        "url_tuple =((\"https://www.numbeo.com/cost-of-living/in/%s?displayCurrency=EUR\", lista_cidades_base),\n",
        "            (\"https://www.numbeo.com/cost-of-living/in/%s&displayCurrency=EUR\", lista_cidades),\n",
        "            (\"https://www.numbeo.com/cost-of-living/in/%s-Portugal?displayCurrency=EUR\", lista_cidades),\n",
        "            (\"https://www.numbeo.com/cost-of-living/in/%s-Portugal?displayCurrency=EUR\", lista_cidades_De),\n",
        "            (\"https://www.numbeo.com/cost-of-living/in/%s-Portugal?displayCurrency=EUR\", lista_cidades_Do)\n",
        "            )"
      ],
      "execution_count": 29,
      "outputs": []
    },
    {
      "cell_type": "code",
      "metadata": {
        "id": "im-x_51v7FxR",
        "colab_type": "code",
        "colab": {}
      },
      "source": [
        "# data extration fuction\n",
        "# requires 2 parameters, url and list\n",
        "\n",
        "def extract_values_cities(request_url,chosen_list_cities):\n",
        "\n",
        "  for i in range(len(chosen_list_cities)):\n",
        "    page_cidades = requests.get(request_url % chosen_list_cities[i])\n",
        "      \n",
        "    page_cidades\n",
        "\n",
        "    soup = BeautifulSoup(page_cidades.content, 'html.parser')\n",
        "\n",
        "    # finds all <td> with \"priceValues\" class, contain prices\n",
        "    z = soup.find_all('td', class_=\"priceValue\")\n",
        "    list(z)\n",
        "\n",
        "    # list to outputed to excel file\n",
        "    lista_val = []\n",
        "\n",
        "    print(chosen_list_cities[i])\n",
        "\n",
        "    # appends city name to output list\n",
        "    lista_val.append(chosen_list_cities[i])\n",
        "\n",
        "    # appends text extracted to output list\n",
        "    for x in range(len(z)):      \n",
        "      lista_val.append(z[x].get_text())\n",
        "      \n",
        "    ## excel append section ##\n",
        "\n",
        "    #path to the excel file\n",
        "    excel_file_c1 = '/content/drive/My Drive/Colab Notebooks/webScrapper proj/Cidades_WS_teste.xlsx'\n",
        "\n",
        "    #load excel file\n",
        "    wb_c1 = load_workbook(excel_file_c1)\n",
        "\n",
        "    #declares the active sheet were to append\n",
        "    f1 = wb_c1.active\n",
        "    #appends values to declared sheet\n",
        "    f1.append(lista_val)\n",
        "\n",
        "    #saves changes made to the excel file\n",
        "    wb_c1.save(filename=excel_file_c1)"
      ],
      "execution_count": 30,
      "outputs": []
    },
    {
      "cell_type": "code",
      "metadata": {
        "id": "Bx1IQQmPDDYv",
        "colab_type": "code",
        "colab": {}
      },
      "source": [
        "#function call\n",
        "\n",
        "#Iterates to a tuple containing URLs and respective list, calling the extraction function\n",
        "for i in range(len(url_tuple)):\n",
        "  extract_values_cities(url_tuple[i][0],url_tuple[i][1])"
      ],
      "execution_count": null,
      "outputs": []
    }
  ]
}