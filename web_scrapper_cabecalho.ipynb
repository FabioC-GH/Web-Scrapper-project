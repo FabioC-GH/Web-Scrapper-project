{
  "nbformat": 4,
  "nbformat_minor": 0,
  "metadata": {
    "colab": {
      "name": "web_scrapper_cabecalho.ipynb",
      "provenance": [],
      "collapsed_sections": []
    },
    "kernelspec": {
      "name": "python3",
      "display_name": "Python 3"
    }
  },
  "cells": [
    {
      "cell_type": "code",
      "metadata": {
        "id": "qPVFWg5NYnRc",
        "colab_type": "code",
        "colab": {}
      },
      "source": [
        "import requests\n",
        "from bs4 import BeautifulSoup\n",
        "\n",
        "from openpyxl import Workbook\n",
        "from openpyxl import Workbook, load_workbook\n",
        "from openpyxl.drawing.image import Image\n",
        "from openpyxl.utils.dataframe import dataframe_to_rows"
      ],
      "execution_count": null,
      "outputs": []
    },
    {
      "cell_type": "code",
      "metadata": {
        "id": "_w19aQgplH18",
        "colab_type": "code",
        "colab": {}
      },
      "source": [
        "from google.colab import drive\n",
        "drive.mount('/content/drive')"
      ],
      "execution_count": null,
      "outputs": []
    },
    {
      "cell_type": "code",
      "metadata": {
        "id": "8-3JmBQdd1Z8",
        "colab_type": "code",
        "colab": {}
      },
      "source": [
        "#obtain country headers\n",
        "\n",
        "def country_header():\n",
        "\n",
        "  page_cab_rec = requests.get(\"https://www.numbeo.com/cost-of-living/country_result.jsp?country=Portugal\")\n",
        "      \n",
        "  soup = BeautifulSoup(page_cab_rec.content, 'html.parser')\n",
        "\n",
        "  # find the <table> where information to create the headers is\n",
        "  table = soup.find('table' ,attrs={'class': 'data_wide_table'})\n",
        "\n",
        "  # finds <td> tags inside the table\n",
        "  find_td = table.find_all('td')\n",
        "\n",
        "  # list to store header values\n",
        "  lista_cab = []\n",
        "\n",
        "  # loot tha cleans the information\n",
        "  # the desired information is in the first <td> out of 3, so (3) is the iteration \n",
        "  for i in range(0,len(find_td),3):\n",
        "    text = find_td[i].renderContents()\n",
        "    trimmed_text = text.strip()\n",
        "    lista_cab.append(trimmed_text)\n",
        "\n",
        "  ## excel append section ##\n",
        "\n",
        "  #path to the excel file\n",
        "  excel_file_c1 = '/content/drive/My Drive/Colab Notebooks/webScrapper proj/Paises_WS.xlsx'\n",
        "\n",
        "  #load excel file\n",
        "  wb_c1 = load_workbook(excel_file_c1)\n",
        "\n",
        "  #declares the active sheet were to append\n",
        "  f1 = wb_c1.active\n",
        "  #appends values to declared sheet\n",
        "  f1.append(lista_cab)\n",
        "\n",
        "  #saves changes made to the excel file\n",
        "  wb_c1.save(filename=excel_file_c1)"
      ],
      "execution_count": null,
      "outputs": []
    },
    {
      "cell_type": "code",
      "metadata": {
        "id": "VQF5ulp1qMvY",
        "colab_type": "code",
        "colab": {}
      },
      "source": [
        "#obtain cities headers\n",
        "\n",
        "def cities_header():\n",
        "  page_cab_rec2 = requests.get(\"https://www.numbeo.com/cost-of-living/in/Braga\")\n",
        "      \n",
        "  soup = BeautifulSoup(page_cab_rec2.content, 'html.parser')\n",
        "\n",
        "  # find the <table> where information to create the headers is\n",
        "  table2 = soup.find('table' ,attrs={'class': 'data_wide_table'})\n",
        "\n",
        "  # finds <td> tags inside the table\n",
        "  first_td2 = table.find_all('td')\n",
        "\n",
        "  # list to store header values\n",
        "  lista_cab2 = []\n",
        "\n",
        "  # loot tha cleans the information\n",
        "  # the desired information is in the first <td> out of 3, so (3) is the iteration \n",
        "  for i in range(0,len(first_td2),3):\n",
        "    text2 = first_td2[i].renderContents()\n",
        "    trimmed_text2 = text2.strip()\n",
        "    lista_cab2.append(trimmed_text)\n",
        "\n",
        "  ## excel append section ##\n",
        "\n",
        "  #path to the excel file\n",
        "  excel_file_c12 = '/content/drive/My Drive/Colab Notebooks/webScrapper proj/Cidades_WS.xlsx'\n",
        "\n",
        "  #load excel file\n",
        "  wb_c12 = load_workbook(excel_file_c1)\n",
        "\n",
        "  #declares the active sheet were to append\n",
        "  f12 = wb_c12.active\n",
        "  #appends values to declared sheet\n",
        "  f12.append(lista_cab2)\n",
        "\n",
        "  #saves changes made to the excel file\n",
        "  wb_c12.save(filename=excel_file_c12)"
      ],
      "execution_count": null,
      "outputs": []
    },
    {
      "cell_type": "code",
      "metadata": {
        "id": "wXnWX-mqZyii",
        "colab_type": "code",
        "colab": {}
      },
      "source": [
        "# function calls\n",
        "\n",
        "#obtain country headers\n",
        "country_header()\n",
        "\n",
        "#obtain cities headers\n",
        "cities_header()"
      ],
      "execution_count": null,
      "outputs": []
    }
  ]
}