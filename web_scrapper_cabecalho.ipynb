{
  "nbformat": 4,
  "nbformat_minor": 0,
  "metadata": {
    "colab": {
      "name": "web_scrapper_cabecalho.ipynb",
      "provenance": [],
      "collapsed_sections": []
    },
    "kernelspec": {
      "name": "python3",
      "display_name": "Python 3"
    }
  },
  "cells": [
    {
      "cell_type": "code",
      "metadata": {
        "id": "qPVFWg5NYnRc",
        "colab_type": "code",
        "colab": {}
      },
      "source": [
        "import requests\n",
        "from bs4 import BeautifulSoup\n",
        "\n",
        "from openpyxl import Workbook\n",
        "from openpyxl import Workbook, load_workbook\n",
        "from openpyxl.drawing.image import Image\n",
        "from openpyxl.utils.dataframe import dataframe_to_rows"
      ],
      "execution_count": null,
      "outputs": []
    },
    {
      "cell_type": "code",
      "metadata": {
        "id": "_w19aQgplH18",
        "colab_type": "code",
        "colab": {}
      },
      "source": [
        "from google.colab import drive\n",
        "drive.mount('/content/drive')"
      ],
      "execution_count": null,
      "outputs": []
    },
    {
      "cell_type": "code",
      "metadata": {
        "id": "8-3JmBQdd1Z8",
        "colab_type": "code",
        "colab": {
          "base_uri": "https://localhost:8080/",
          "height": 55
        },
        "outputId": "be37a1a8-c698-4624-90ec-c9c0045191db"
      },
      "source": [
        "#obter cabeçalho para paises\n",
        "\n",
        "page_cab_rec = requests.get(\"https://www.numbeo.com/cost-of-living/country_result.jsp?country=Portugal\")\n",
        "    \n",
        "soup = BeautifulSoup(page_cab_rec.content, 'html.parser')\n",
        "\n",
        "table = soup.find('table' ,attrs={'class': 'data_wide_table'})\n",
        "first_td = table.find_all('td')\n",
        "\n",
        "#print(first_td)\n",
        "lista_cab = []\n",
        "for i in range(0,len(first_td),3):\n",
        "  text = first_td[i].renderContents()\n",
        "  trimmed_text = text.strip()\n",
        "  lista_cab.append(trimmed_text)\n",
        "\n",
        "print(lista_cab)\n",
        "\n",
        "## excel append section ##\n",
        "\n",
        "#path to the excel file\n",
        "excel_file_c1 = '/content/drive/My Drive/slotMachDatasets/Paises_teste1.xlsx'\n",
        "\n",
        "#load excel file\n",
        "wb_c1 = load_workbook(excel_file_c1)\n",
        "\n",
        "#declares the active sheet were to append\n",
        "f1 = wb_c1.active\n",
        "#appends values to declared sheet\n",
        "f1.append(lista_cab)\n",
        "\n",
        "#saves changes made to the excel file\n",
        "wb_c1.save(filename=excel_file_c1)"
      ],
      "execution_count": null,
      "outputs": [
        {
          "output_type": "stream",
          "text": [
            "[b'Meal, Inexpensive Restaurant', b'Meal for 2 People, Mid-range Restaurant, Three-course', b'McMeal at McDonalds (or Equivalent Combo Meal)', b'Domestic Beer (1 pint draught)', b'Imported Beer (12 oz small bottle)', b'Cappuccino (regular)', b'Coke/Pepsi (12 oz small bottle)', b'Water (12 oz small bottle)', b'Milk (regular), (1 gallon)', b'Loaf of Fresh White Bread (1 lb)', b'Rice (white), (1 lb)', b'Eggs (regular) (12)', b'Local Cheese (1 lb)', b'Chicken Fillets (1 lb)', b'Beef Round (1 lb) (or Equivalent Back Leg Red Meat)', b'Apples (1 lb)', b'Banana (1 lb)', b'Oranges (1 lb)', b'Tomato (1 lb)', b'Potato (1 lb)', b'Onion (1 lb)', b'Lettuce (1 head)', b'Water (1.5 liter bottle)', b'Bottle of Wine (Mid-Range)', b'Domestic Beer (0.5 liter bottle)', b'Imported Beer (12 oz small bottle)', b'Cigarettes 20 Pack (Marlboro)', b'One-way Ticket (Local Transport)', b'Monthly Pass (Regular Price)', b'Taxi Start (Normal Tariff)', b'Taxi 1 mile (Normal Tariff)', b'Taxi 1hour Waiting (Normal Tariff)', b'Gasoline (1 gallon)', b'Volkswagen Golf 1.4 90 KW Trendline (Or Equivalent New Car)', b'Toyota Corolla Sedan 1.6l 97kW Comfort (Or Equivalent New Car)', b'Basic (Electricity, Heating, Cooling, Water, Garbage) for 915 sq ft Apartment', b'1 min. of Prepaid Mobile Tariff Local (No Discounts or Plans)', b'Internet (60 Mbps or More, Unlimited Data, Cable/ADSL)', b'Fitness Club, Monthly Fee for 1 Adult', b'Tennis Court Rent (1 Hour on Weekend)', b'Cinema, International Release, 1 Seat', b'Preschool (or Kindergarten), Full Day, Private, Monthly for 1 Child', b'International Primary School, Yearly for 1 Child', b'1 Pair of Jeans (Levis 501 Or Similar)', b'1 Summer Dress in a Chain Store (Zara, H&amp;M, ...)', b'1 Pair of Nike Running Shoes (Mid-Range)', b'1 Pair of Men Leather Business Shoes', b'Apartment (1 bedroom) in City Centre', b'Apartment (1 bedroom) Outside of Centre', b'Apartment (3 bedrooms) in City Centre', b'Apartment (3 bedrooms) Outside of Centre', b'Price per Square Feet to Buy Apartment in City Centre', b'Price per Square Feet to Buy Apartment Outside of Centre', b'Average Monthly Net Salary (After Tax)', b'Mortgage Interest Rate in Percentages (%), Yearly, for 20 Years Fixed-Rate']\n"
          ],
          "name": "stdout"
        }
      ]
    },
    {
      "cell_type": "code",
      "metadata": {
        "id": "VQF5ulp1qMvY",
        "colab_type": "code",
        "colab": {
          "base_uri": "https://localhost:8080/",
          "height": 55
        },
        "outputId": "b6502e5c-b802-4f0c-d584-b20cece597b0"
      },
      "source": [
        "#obter cabeçalho para cidades\n",
        "\n",
        "page_cab_rec2 = requests.get(\"https://www.numbeo.com/cost-of-living/in/Braga\")\n",
        "    \n",
        "soup = BeautifulSoup(page_cab_rec2.content, 'html.parser')\n",
        "\n",
        "table2 = soup.find('table' ,attrs={'class': 'data_wide_table'})\n",
        "first_td2 = table.find_all('td')\n",
        "\n",
        "#print(first_td)\n",
        "lista_cab2 = []\n",
        "for i in range(0,len(first_td2),3):\n",
        "  text2 = first_td2[i].renderContents()\n",
        "  trimmed_text2 = text2.strip()\n",
        "  lista_cab2.append(trimmed_text)\n",
        "\n",
        "print(lista_cab2)\n",
        "\n",
        "## excel append section ##\n",
        "\n",
        "#path to the excel file\n",
        "excel_file_c12 = '/content/drive/My Drive/slotMachDatasets/Cidades_teste1.xlsx'\n",
        "\n",
        "#load excel file\n",
        "wb_c12 = load_workbook(excel_file_c1)\n",
        "\n",
        "#declares the active sheet were to append\n",
        "f12 = wb_c12.active\n",
        "#appends values to declared sheet\n",
        "f12.append(lista_cab2)\n",
        "\n",
        "#saves changes made to the excel file\n",
        "wb_c12.save(filename=excel_file_c12)"
      ],
      "execution_count": null,
      "outputs": [
        {
          "output_type": "stream",
          "text": [
            "[b'Mortgage Interest Rate in Percentages (%), Yearly, for 20 Years Fixed-Rate', b'Mortgage Interest Rate in Percentages (%), Yearly, for 20 Years Fixed-Rate', b'Mortgage Interest Rate in Percentages (%), Yearly, for 20 Years Fixed-Rate', b'Mortgage Interest Rate in Percentages (%), Yearly, for 20 Years Fixed-Rate', b'Mortgage Interest Rate in Percentages (%), Yearly, for 20 Years Fixed-Rate', b'Mortgage Interest Rate in Percentages (%), Yearly, for 20 Years Fixed-Rate', b'Mortgage Interest Rate in Percentages (%), Yearly, for 20 Years Fixed-Rate', b'Mortgage Interest Rate in Percentages (%), Yearly, for 20 Years Fixed-Rate', b'Mortgage Interest Rate in Percentages (%), Yearly, for 20 Years Fixed-Rate', b'Mortgage Interest Rate in Percentages (%), Yearly, for 20 Years Fixed-Rate', b'Mortgage Interest Rate in Percentages (%), Yearly, for 20 Years Fixed-Rate', b'Mortgage Interest Rate in Percentages (%), Yearly, for 20 Years Fixed-Rate', b'Mortgage Interest Rate in Percentages (%), Yearly, for 20 Years Fixed-Rate', b'Mortgage Interest Rate in Percentages (%), Yearly, for 20 Years Fixed-Rate', b'Mortgage Interest Rate in Percentages (%), Yearly, for 20 Years Fixed-Rate', b'Mortgage Interest Rate in Percentages (%), Yearly, for 20 Years Fixed-Rate', b'Mortgage Interest Rate in Percentages (%), Yearly, for 20 Years Fixed-Rate', b'Mortgage Interest Rate in Percentages (%), Yearly, for 20 Years Fixed-Rate', b'Mortgage Interest Rate in Percentages (%), Yearly, for 20 Years Fixed-Rate', b'Mortgage Interest Rate in Percentages (%), Yearly, for 20 Years Fixed-Rate', b'Mortgage Interest Rate in Percentages (%), Yearly, for 20 Years Fixed-Rate', b'Mortgage Interest Rate in Percentages (%), Yearly, for 20 Years Fixed-Rate', b'Mortgage Interest Rate in Percentages (%), Yearly, for 20 Years Fixed-Rate', b'Mortgage Interest Rate in Percentages (%), Yearly, for 20 Years Fixed-Rate', b'Mortgage Interest Rate in Percentages (%), Yearly, for 20 Years Fixed-Rate', b'Mortgage Interest Rate in Percentages (%), Yearly, for 20 Years Fixed-Rate', b'Mortgage Interest Rate in Percentages (%), Yearly, for 20 Years Fixed-Rate', b'Mortgage Interest Rate in Percentages (%), Yearly, for 20 Years Fixed-Rate', b'Mortgage Interest Rate in Percentages (%), Yearly, for 20 Years Fixed-Rate', b'Mortgage Interest Rate in Percentages (%), Yearly, for 20 Years Fixed-Rate', b'Mortgage Interest Rate in Percentages (%), Yearly, for 20 Years Fixed-Rate', b'Mortgage Interest Rate in Percentages (%), Yearly, for 20 Years Fixed-Rate', b'Mortgage Interest Rate in Percentages (%), Yearly, for 20 Years Fixed-Rate', b'Mortgage Interest Rate in Percentages (%), Yearly, for 20 Years Fixed-Rate', b'Mortgage Interest Rate in Percentages (%), Yearly, for 20 Years Fixed-Rate', b'Mortgage Interest Rate in Percentages (%), Yearly, for 20 Years Fixed-Rate', b'Mortgage Interest Rate in Percentages (%), Yearly, for 20 Years Fixed-Rate', b'Mortgage Interest Rate in Percentages (%), Yearly, for 20 Years Fixed-Rate', b'Mortgage Interest Rate in Percentages (%), Yearly, for 20 Years Fixed-Rate', b'Mortgage Interest Rate in Percentages (%), Yearly, for 20 Years Fixed-Rate', b'Mortgage Interest Rate in Percentages (%), Yearly, for 20 Years Fixed-Rate', b'Mortgage Interest Rate in Percentages (%), Yearly, for 20 Years Fixed-Rate', b'Mortgage Interest Rate in Percentages (%), Yearly, for 20 Years Fixed-Rate', b'Mortgage Interest Rate in Percentages (%), Yearly, for 20 Years Fixed-Rate', b'Mortgage Interest Rate in Percentages (%), Yearly, for 20 Years Fixed-Rate', b'Mortgage Interest Rate in Percentages (%), Yearly, for 20 Years Fixed-Rate', b'Mortgage Interest Rate in Percentages (%), Yearly, for 20 Years Fixed-Rate', b'Mortgage Interest Rate in Percentages (%), Yearly, for 20 Years Fixed-Rate', b'Mortgage Interest Rate in Percentages (%), Yearly, for 20 Years Fixed-Rate', b'Mortgage Interest Rate in Percentages (%), Yearly, for 20 Years Fixed-Rate', b'Mortgage Interest Rate in Percentages (%), Yearly, for 20 Years Fixed-Rate', b'Mortgage Interest Rate in Percentages (%), Yearly, for 20 Years Fixed-Rate', b'Mortgage Interest Rate in Percentages (%), Yearly, for 20 Years Fixed-Rate', b'Mortgage Interest Rate in Percentages (%), Yearly, for 20 Years Fixed-Rate', b'Mortgage Interest Rate in Percentages (%), Yearly, for 20 Years Fixed-Rate']\n"
          ],
          "name": "stdout"
        }
      ]
    }
  ]
}